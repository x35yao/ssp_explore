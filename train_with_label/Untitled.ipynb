{
 "cells": [
  {
   "cell_type": "code",
   "execution_count": 1,
   "metadata": {},
   "outputs": [],
   "source": [
    "%matplotlib notebook\n",
    "# Load data\n",
    "import sys\n",
    "sys.path.append('..')\n",
    "from torch import nn\n",
    "import torch.nn.functional as F\n",
    "import numpy as np\n",
    "import torch\n",
    "from utils.data import fetch_data_with_label, label_to_int, divide_data, process_data_3d,process_batch_data_3d\n",
    "import glob\n",
    "import itertools"
   ]
  },
  {
   "cell_type": "code",
   "execution_count": 2,
   "metadata": {},
   "outputs": [],
   "source": [
    "task = 'bin_picking'\n",
    "if task == 'assembly':\n",
    "        n_global_states = 4\n",
    "        n_clusters = 5\n",
    "        target_dir = '../../roboSim/data/assembly/*/*.pickle'\n",
    "elif task == 'bin_picking':\n",
    "        n_global_states = 2\n",
    "        n_clusters = 2\n",
    "        target_dir = '../../roboSim/data/bin_picking/*/*.pickle'\n",
    "        \n",
    "logfile_path = glob.glob(target_dir)\n",
    "#coordinates and object kind for nut and bolt\n",
    "data, label = fetch_data_with_label(logfile_path, n_global_states)\n",
    "n_training = 2\n",
    "n_val = 10\n",
    "x_train, y_train, x_left, y_left= divide_data(data,label,n_training)\n",
    "x_val, y_val, x_test, y_test = divide_data(x_left, y_left, n_val)\n",
    "# Add noise and anchor information to the data\n",
    "x_train_processed, y_train_processed = process_batch_data_3d(x_train, y_train, with_anchor = False, task = 'bin_picking')\n",
    "x_val_processed, y_val_processed = process_batch_data_3d(x_val, y_val, with_anchor = False, task = 'bin_picking')\n",
    "x_test_processed, y_test_processed = process_batch_data_3d(x_test, y_test, with_anchor = False, task = 'bin_picking')\n",
    "\n",
    "x_train, y_train = torch.from_numpy(x_train_processed).float(), torch.from_numpy(y_train_processed.astype(int)).view(-1, 1).long()\n",
    "x_val, y_val = torch.from_numpy(x_val_processed).float(), torch.from_numpy(y_val_processed.astype(int)).view(-1, 1).long()\n",
    "x_test, y_test = torch.from_numpy(x_test_processed).float(), torch.from_numpy(y_test_processed.astype(int)).view(-1, 1).long()\n",
    "\n",
    "input_dim = x_train_processed.shape[1]\n",
    "output_dim = n_clusters\n"
   ]
  },
  {
   "cell_type": "code",
   "execution_count": 3,
   "metadata": {},
   "outputs": [
    {
     "data": {
      "text/plain": [
       "tensor([[ 0.3845,  0.0307, -0.2556,  0.9280,  0.0720],\n",
       "        [ 0.3733,  0.0344, -0.1080,  0.8646,  0.1354],\n",
       "        [ 0.4397,  0.0558,  0.0043,  0.0733,  0.9267],\n",
       "        [ 0.5471,  0.0625, -0.1496,  0.1536,  0.8464],\n",
       "        [ 0.3967,  0.0198, -0.2619,  0.8728,  0.1272],\n",
       "        [ 0.3769,  0.0307, -0.1017,  0.9854,  0.0146],\n",
       "        [-0.4851,  0.0565, -0.5864,  0.1097,  0.8903],\n",
       "        [ 0.4567,  0.0562, -0.2088,  0.1378,  0.8622],\n",
       "        [-0.4851,  0.0565, -0.5864,  0.1097,  0.8903],\n",
       "        [-0.4851,  0.0565, -0.5864,  0.1097,  0.8903],\n",
       "        [-0.4851,  0.0565, -0.5864,  0.1097,  0.8903],\n",
       "        [-0.4851,  0.0565, -0.5864,  0.1097,  0.8903],\n",
       "        [-0.4851,  0.0565, -0.5864,  0.1097,  0.8903],\n",
       "        [-0.4851,  0.0565, -0.5864,  0.1097,  0.8903],\n",
       "        [ 0.4100,  0.0426,  0.1051,  0.8972,  0.1028],\n",
       "        [ 0.2907,  0.0363, -0.1749,  0.9117,  0.0883],\n",
       "        [ 0.4573,  0.0673, -0.1695,  0.1372,  0.8628],\n",
       "        [ 0.3426,  0.0591, -0.1070,  0.0754,  0.9246],\n",
       "        [-0.5048,  0.0343, -0.5068,  0.9800,  0.0200],\n",
       "        [ 0.2949,  0.0309, -0.1891,  0.8486,  0.1514],\n",
       "        [ 0.4812,  0.0564, -0.1303,  0.0568,  0.9432],\n",
       "        [ 0.4122,  0.0588, -0.0879,  0.1059,  0.8941]])"
      ]
     },
     "execution_count": 3,
     "metadata": {},
     "output_type": "execute_result"
    }
   ],
   "source": [
    "x_train"
   ]
  },
  {
   "cell_type": "code",
   "execution_count": 13,
   "metadata": {},
   "outputs": [
    {
     "data": {
      "text/plain": [
       "10"
      ]
     },
     "execution_count": 13,
     "metadata": {},
     "output_type": "execute_result"
    }
   ],
   "source": [
    "len(y_val)"
   ]
  },
  {
   "cell_type": "code",
   "execution_count": 6,
   "metadata": {},
   "outputs": [],
   "source": [
    "class MyNet(nn.Module):\n",
    "    def __init__(self, input_dim, output_dim):\n",
    "        super().__init__()\n",
    "        self.fc1 = nn.Linear(input_dim, 32)\n",
    "        self.fc2 = nn.Linear(32, 32)\n",
    "        self.fc3 = nn.Linear(32, output_dim)\n",
    "        \n",
    "    def forward(self, x):\n",
    "        x = self.fc1(x)\n",
    "        x = F.relu(x)\n",
    "        x = self.fc2(x)\n",
    "        x = F.relu(x)\n",
    "        x = self.fc3(x)\n",
    "        return x"
   ]
  },
  {
   "cell_type": "code",
   "execution_count": null,
   "metadata": {},
   "outputs": [],
   "source": []
  },
  {
   "cell_type": "code",
   "execution_count": null,
   "metadata": {},
   "outputs": [],
   "source": []
  }
 ],
 "metadata": {
  "kernelspec": {
   "display_name": "Python 3",
   "language": "python",
   "name": "python3"
  },
  "language_info": {
   "codemirror_mode": {
    "name": "ipython",
    "version": 3
   },
   "file_extension": ".py",
   "mimetype": "text/x-python",
   "name": "python",
   "nbconvert_exporter": "python",
   "pygments_lexer": "ipython3",
   "version": "3.7.3"
  }
 },
 "nbformat": 4,
 "nbformat_minor": 2
}
