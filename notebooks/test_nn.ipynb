{
 "cells": [
  {
   "cell_type": "code",
   "execution_count": 1,
   "metadata": {},
   "outputs": [],
   "source": [
    "import numpy as np\n",
    "import sys\n",
    "sys.path.append('..')\n",
    "\n",
    "from utils.data import fetch_data_with_label_per_step, label_to_int, balance_data\n",
    "from utils.clustering import Clustering\n",
    "from utils.encoding import make_good_unitary, encode_feature\n",
    "from sklearn.metrics import adjusted_rand_score\n",
    "import itertools\n",
    "import argparse\n",
    "\n",
    "logfile_path = ['../data/raw/1599166289/data.pickle', '../data/raw/1599153598/data.pickle', '../data/raw/test/data.pickle']\n",
    "\n",
    "#coordinates and object kind for nut and bolt\n",
    "data, label = fetch_data_with_label_per_step(logfile_path)"
   ]
  },
  {
   "cell_type": "code",
   "execution_count": 42,
   "metadata": {},
   "outputs": [],
   "source": [
    "n = len(data)\n",
    "n_training = 5\n",
    "inds = np.random.choice(n, n_training)\n",
    "data_training = np.zeros((1, 4))\n",
    "label_training = []\n",
    "\n",
    "for i, ind in enumerate(inds):\n",
    "    selected_data = np.array(list(itertools.chain.from_iterable(data[ind])))\n",
    "    selected_label = list(itertools.chain.from_iterable(label[ind]))\n",
    "    data_training = np.vstack((data_training, selected_data))\n",
    "    label_training += selected_label\n",
    "\n",
    "data_training = data_training[1:,:]\n",
    "label_training = np.array(label_training)\n",
    "\n",
    "\n",
    "selected_data_balanced, selected_label_balanced  = balance_data(data_training, label_training)\n",
    "selected_label_int = label_to_int(label_training_balanced)\n",
    "\n",
    "\n",
    "u_coord = 0  # The average shift between the approximated coordinates and ground truth\n",
    "sigma_coord = 0.006\n",
    "u_kind = 0.1\n",
    "sigma_kind = 0.05\n",
    "u_anchor = 0.1\n",
    "sigma_anchor = 0.05\n",
    "\n",
    "coord = selected_data_balanced[:,0:3]\n",
    "obj_kind = selected_data_balanced[:, 3]\n",
    "\n",
    "noise = np.random.normal(u_coord, sigma_coord, coord.shape)\n",
    "coord_noisy = coord + noise\n",
    "\n",
    "ind_nut = np.where(obj_kind == 0)[0]\n",
    "ind_bolt = np.where(obj_kind == 1)[0]\n",
    "\n",
    "n_data = coord.shape[0]\n",
    "one_hot_kind = np.zeros((n_data,2))\n",
    "one_hot_kind[np.arange(obj_kind.size),obj_kind.astype(int)] = 1\n",
    "noise_kind = np.random.normal(u_kind, sigma_kind, obj_kind.size)\n",
    "kind_noisy = abs(one_hot_kind - np.column_stack((noise_kind, noise_kind)))\n",
    "\n",
    "ind_table = np.concatenate((np.where(selected_label_balanced == 'Nut on table')[0], np.where(selected_label_balanced == 'Bolt on table')[0]))\n",
    "ind_jig = np.delete(np.arange(n_data), ind_table)\n",
    "one_hot_anchor = np.zeros((n_data,2))\n",
    "one_hot_anchor[ind_table,0] = 1\n",
    "one_hot_anchor[ind_jig,1] = 1\n",
    "noise_anchor = np.random.normal(u_anchor, sigma_anchor, obj_kind.size)\n",
    "anchor_noisy = abs(one_hot_anchor - np.column_stack((noise_anchor, noise_anchor)))\n",
    "\n",
    "coord_concat_ext = np.concatenate((coord_noisy, kind_noisy, anchor_noisy), axis = 1)\n"
   ]
  },
  {
   "cell_type": "code",
   "execution_count": null,
   "metadata": {},
   "outputs": [],
   "source": []
  }
 ],
 "metadata": {
  "kernelspec": {
   "display_name": "Python 3",
   "language": "python",
   "name": "python3"
  },
  "language_info": {
   "codemirror_mode": {
    "name": "ipython",
    "version": 3
   },
   "file_extension": ".py",
   "mimetype": "text/x-python",
   "name": "python",
   "nbconvert_exporter": "python",
   "pygments_lexer": "ipython3",
   "version": "3.7.4"
  }
 },
 "nbformat": 4,
 "nbformat_minor": 2
}
