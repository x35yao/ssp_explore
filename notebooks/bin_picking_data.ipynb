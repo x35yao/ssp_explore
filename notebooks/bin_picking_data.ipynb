{
 "cells": [
  {
   "cell_type": "code",
   "execution_count": 1,
   "metadata": {},
   "outputs": [],
   "source": [
    "import numpy as np\n",
    "%matplotlib notebook\n",
    "import sys\n",
    "sys.path.append('..')\n",
    "\n",
    "from matplotlib import pyplot as plt\n",
    "from mpl_toolkits.mplot3d import Axes3D \n",
    "from utils.data import fetch_data, fetch_data_with_label, fetch_data_with_label_per_step, generate_data, label_to_int, divide_data\n",
    "from utils.plotting import plot\n",
    "from utils.clustering import agglomerative, kmeans, gaussian_mixture, Clustering\n",
    "from sklearn.metrics import adjusted_rand_score\n",
    "import itertools\n",
    "import pickle\n"
   ]
  },
  {
   "cell_type": "code",
   "execution_count": 2,
   "metadata": {},
   "outputs": [],
   "source": [
    "import glob\n",
    "\n",
    "target_dir = '../../roboSim/data/bin_picking/*/*.pickle'\n",
    "# names = [name for name in listdir(target_dir) if name != 'archive']\n",
    "# filenames = [target]\n",
    "\n",
    "logfile_path = glob.glob(target_dir)\n",
    "seqs, label = fetch_data_with_label_per_step(logfile_path, n_states = 2)"
   ]
  },
  {
   "cell_type": "code",
   "execution_count": 16,
   "metadata": {},
   "outputs": [],
   "source": [
    "import numpy as np\n",
    "import sys\n",
    "sys.path.append('..')\n",
    "\n",
    "from utils.data import fetch_data_with_label_per_step, label_to_int, balance_data\n",
    "from utils.clustering import Clustering\n",
    "from utils.encoding import make_good_unitary, encode_feature\n",
    "from sklearn.metrics import adjusted_rand_score\n",
    "import itertools\n",
    "import argparse\n",
    "import glob\n",
    "\n",
    "'''\n",
    "run this file : python ./encoding_3d.py -t assembly -al gaussian -an True -af p_norm, euclidean, euclidean\n",
    "'''\n",
    "\n",
    "def process_data(selected_data, selected_label, with_anchor, task = 'assembly'):\n",
    "    '''\n",
    "    This method process the 4-d data(3-d coordinates + 1-d object kind) by:\n",
    "     1. Balancing the data\n",
    "     2. Add anchor object information if needed\n",
    "     3. Change the index encoding(0 for nut, 1 for bolt) to distributed encodeing(ex. [0.8, 0.2] for nut and [0.9, 0.1] for bolt)\n",
    "    '''\n",
    "    u_coord = 0  # The average shift between the approximated coordinates and ground truth\n",
    "    sigma_coord = 0.006\n",
    "    u_kind = 0.1\n",
    "    sigma_kind = 0.05\n",
    "    u_anchor = 0.1\n",
    "    sigma_anchor= 0.05\n",
    "    \n",
    "    ind_not_noisy = selected_label != 'Noise_data'\n",
    "    data = selected_data[ind_not_noisy, :]\n",
    "    label = selected_label[ind_not_noisy]\n",
    "    \n",
    "    selected_data_balanced, selected_label_balanced = balance_data(data, label)\n",
    "    selected_label_int = label_to_int(selected_label_balanced)\n",
    "\n",
    "    # Object coordinates information\n",
    "    coord = selected_data_balanced[:,0:3]\n",
    "    obj_kind = selected_data_balanced[:, 3]\n",
    "    noise = np.random.normal(u_coord, sigma_coord, coord.shape)\n",
    "    coord_noisy = coord + noise\n",
    "\n",
    "    # Object kind information\n",
    "    ind_nut = np.where(obj_kind == 0)[0]\n",
    "    ind_bolt = np.where(obj_kind == 1)[0]\n",
    "    n_data = coord.shape[0]\n",
    "    one_hot_kind = np.zeros((n_data,2))\n",
    "    one_hot_kind[np.arange(obj_kind.size),obj_kind.astype(int)] = 1\n",
    "    noise_kind = np.random.normal(u_kind, sigma_kind, obj_kind.size)\n",
    "    kind_noisy = abs(one_hot_kind - np.column_stack((noise_kind, noise_kind)))\n",
    "\n",
    "    if task == 'assembly':\n",
    "        # Anchor object information\n",
    "        ind_table = np.concatenate((np.where(selected_label_balanced == 'Nut on table')[0], np.where(selected_label_balanced == 'Bolt on table')[0]))\n",
    "        ind_jig = np.delete(np.arange(n_data), ind_table)\n",
    "        one_hot_anchor = np.zeros((n_data,2))\n",
    "        one_hot_anchor[ind_table,0] = 1\n",
    "        one_hot_anchor[ind_jig,1] = 1\n",
    "        noise_anchor = np.random.normal(u_anchor, sigma_anchor, obj_kind.size)\n",
    "        anchor_noisy = abs(one_hot_anchor - np.column_stack((noise_anchor, noise_anchor)))\n",
    "\n",
    "    elif taks == 'bin_picking':\n",
    "        ind_bin_origin = np.where(selected_label_balanced == 'Object in origin bin')[0]\n",
    "        ind_bin_target = np.delete(np.arange(n_data), ind_table)\n",
    "        one_hot_anchor = np.zeros((n_data,2))\n",
    "        one_hot_anchor[ind_bin_origin,0] = 1\n",
    "        one_hot_anchor[ind_bin_target,1] = 1\n",
    "        noise_anchor = np.random.normal(u_anchor, sigma_anchor, obj_kind.size)\n",
    "        anchor_noisy = abs(one_hot_anchor - np.column_stack((noise_anchor, noise_anchor)))\n",
    "    if with_anchor:\n",
    "        data_concat = [coord_noisy, kind_noisy, anchor_noisy]\n",
    "    else:\n",
    "        data_concat = [coord_noisy, kind_noisy]\n",
    "    return data_concat, selected_label_int\n",
    "\n",
    "def test_3d(task, algorithm, with_anchor, affinity):\n",
    "    if task == 'assembly':\n",
    "        n_states = 4\n",
    "        n_clusters = 5\n",
    "        target_dir = '../../roboSim/data/assembly/*/*.pickle'\n",
    "    elif task == 'bin_picking':\n",
    "        n_states = 2\n",
    "        n_clusters = 2\n",
    "        target_dir = '../../roboSim/data/bin_picking/*/*.pickle'\n",
    "    logfile_path = glob.glob(target_dir)\n",
    "    #coordinates and object kind for nut and bolt\n",
    "    data, label = fetch_data_with_label_per_step(logfile_path, n_states)\n",
    "    for i,x in enumerate(data):\n",
    "        # Get rid of the data that only has one datapoint\n",
    "        datapoint = np.array(list(itertools.chain.from_iterable(data[i])))\n",
    "        if datapoint.shape[0] < 2:\n",
    "            data.pop(i)\n",
    "            label.pop(i)\n",
    "    n_test = 100\n",
    "    result = []\n",
    "    rand_score = 0\n",
    "    n_success = 0\n",
    "    for i in range(n_test):\n",
    "        ind = np.random.choice(len(data))\n",
    "        selected_data = np.array(list(itertools.chain.from_iterable(data[ind])))\n",
    "        selected_label = np.array(list(itertools.chain.from_iterable(label[ind])))\n",
    "        data_concat, selected_label_int = process_data(selected_data, selected_label, with_anchor, task = 'assembly')\n",
    "        if with_anchor:\n",
    "            affinity = affinity\n",
    "        else:\n",
    "            affinity = affinity[:2]\n",
    "        C = Clustering(data_concat, algorithm, affinity, n_clusters, thres = None, p = -2)\n",
    "        estimated_label = C.predict()\n",
    "        n_original = selected_data.shape[0]\n",
    "        print(n_original, estimated_label[:n_original], selected_label_int, len(selected_label), ind)\n",
    "        temp = adjusted_rand_score(estimated_label[:n_original], selected_label_int[:n_original])\n",
    "        rand_score += temp\n",
    "        if temp == 1:\n",
    "            n_success +=1\n",
    "        average_rand = rand_score / n_test\n",
    "        success_rate = n_success / n_test * 100\n",
    "    print(f'Algorithm is {algorithm}, Affinity is {affinity}, With anchor is {with_anchor}. \\n \\\n",
    "            The average rand score is {average_rand}.\\n \\\n",
    "            The success rate is {success_rate}%')\n",
    "    return average_rand, success_rate\n",
    "\n",
    "    \n"
   ]
  },
  {
   "cell_type": "code",
   "execution_count": 6,
   "metadata": {},
   "outputs": [
    {
     "name": "stdout",
     "output_type": "stream",
     "text": [
      "8 [1 0 1 1 0 0 1 1] [1 1 1 1 0 1 1 1 0 0 0 0 0 0] 8 200\n",
      "4 [0 1 0 1] [1 1 0 1 0 0] 4 497\n",
      "4 [0 0 0 1] [1 1 1 0 0 0] 4 190\n",
      "4 [0 0 0 1] [1 1 1 0 0 0] 4 156\n",
      "4 [0 1 0 1] [1 1 0 1 0 0] 4 182\n",
      "6 [1 1 1 1 0 1] [1 1 1 1 0 1 0 0 0 0] 6 92\n",
      "8 [0 1 1 1 0 0 1 1] [1 1 1 1 0 1 1 1 0 0 0 0 0 0] 8 346\n",
      "8 [0 1 1 1 0 1 1 1] [1 1 1 1 0 1 1 1 0 0 0 0 0 0] 8 121\n",
      "4 [0 1 0 1] [1 1 0 1 0 0] 4 490\n",
      "8 [1 1 0 0 1 1 0 0] [1 1 1 1 1 1 0 1 0 0 0 0 0 0] 8 457\n",
      "8 [0 0 0 0 0 0 1 0] [1 1 1 1 1 1 0 1 0 0 0 0 0 0] 8 83\n",
      "4 [1 1 0 1] [1 1 0 1 0 0] 4 341\n",
      "6 [1 1 1 0 1 1] [1 1 1 0 1 1 0 0 0 0] 6 464\n",
      "8 [0 0 0 0 0 0 1 0] [1 1 1 1 1 1 0 1 0 0 0 0 0 0] 8 501\n",
      "6 [0 0 0 1 0 0] [1 1 1 0 1 1 0 0 0 0] 6 474\n",
      "4 [1 1 0 1] [1 1 0 1 0 0] 4 126\n",
      "8 [0 0 0 0 0 0 1 0] [1 1 1 1 1 1 0 1 0 0 0 0 0 0] 8 405\n",
      "8 [1 1 0 0 1 0 0 0] [1 1 1 1 0 1 1 1 0 0 0 0 0 0] 8 358\n",
      "4 [0 1 0 1] [1 1 0 1 0 0] 4 8\n"
     ]
    },
    {
     "ename": "IndexError",
     "evalue": "too many indices for array",
     "output_type": "error",
     "traceback": [
      "\u001b[0;31m---------------------------------------------------------------------------\u001b[0m",
      "\u001b[0;31mIndexError\u001b[0m                                Traceback (most recent call last)",
      "\u001b[0;32m<ipython-input-6-939e5c46b76e>\u001b[0m in \u001b[0;36m<module>\u001b[0;34m()\u001b[0m\n\u001b[0;32m----> 1\u001b[0;31m \u001b[0mtest_3d\u001b[0m\u001b[0;34m(\u001b[0m\u001b[0;34m'bin_picking'\u001b[0m\u001b[0;34m,\u001b[0m \u001b[0;34m'gaussian'\u001b[0m\u001b[0;34m,\u001b[0m \u001b[0;32mFalse\u001b[0m\u001b[0;34m,\u001b[0m \u001b[0;34m'euclidean'\u001b[0m\u001b[0;34m)\u001b[0m\u001b[0;34m\u001b[0m\u001b[0;34m\u001b[0m\u001b[0m\n\u001b[0m",
      "\u001b[0;32m<ipython-input-3-198669e0083d>\u001b[0m in \u001b[0;36mtest_3d\u001b[0;34m(task, algorithm, with_anchor, affinity)\u001b[0m\n\u001b[1;32m     97\u001b[0m         \u001b[0mselected_data\u001b[0m \u001b[0;34m=\u001b[0m \u001b[0mnp\u001b[0m\u001b[0;34m.\u001b[0m\u001b[0marray\u001b[0m\u001b[0;34m(\u001b[0m\u001b[0mlist\u001b[0m\u001b[0;34m(\u001b[0m\u001b[0mitertools\u001b[0m\u001b[0;34m.\u001b[0m\u001b[0mchain\u001b[0m\u001b[0;34m.\u001b[0m\u001b[0mfrom_iterable\u001b[0m\u001b[0;34m(\u001b[0m\u001b[0mdata\u001b[0m\u001b[0;34m[\u001b[0m\u001b[0mind\u001b[0m\u001b[0;34m]\u001b[0m\u001b[0;34m)\u001b[0m\u001b[0;34m)\u001b[0m\u001b[0;34m)\u001b[0m\u001b[0;34m\u001b[0m\u001b[0;34m\u001b[0m\u001b[0m\n\u001b[1;32m     98\u001b[0m         \u001b[0mselected_label\u001b[0m \u001b[0;34m=\u001b[0m \u001b[0mnp\u001b[0m\u001b[0;34m.\u001b[0m\u001b[0marray\u001b[0m\u001b[0;34m(\u001b[0m\u001b[0mlist\u001b[0m\u001b[0;34m(\u001b[0m\u001b[0mitertools\u001b[0m\u001b[0;34m.\u001b[0m\u001b[0mchain\u001b[0m\u001b[0;34m.\u001b[0m\u001b[0mfrom_iterable\u001b[0m\u001b[0;34m(\u001b[0m\u001b[0mlabel\u001b[0m\u001b[0;34m[\u001b[0m\u001b[0mind\u001b[0m\u001b[0;34m]\u001b[0m\u001b[0;34m)\u001b[0m\u001b[0;34m)\u001b[0m\u001b[0;34m)\u001b[0m\u001b[0;34m\u001b[0m\u001b[0;34m\u001b[0m\u001b[0m\n\u001b[0;32m---> 99\u001b[0;31m         \u001b[0mdata_concat\u001b[0m\u001b[0;34m,\u001b[0m \u001b[0mselected_label_int\u001b[0m \u001b[0;34m=\u001b[0m \u001b[0mprocess_data\u001b[0m\u001b[0;34m(\u001b[0m\u001b[0mselected_data\u001b[0m\u001b[0;34m,\u001b[0m \u001b[0mselected_label\u001b[0m\u001b[0;34m,\u001b[0m \u001b[0mwith_anchor\u001b[0m\u001b[0;34m,\u001b[0m \u001b[0mtask\u001b[0m \u001b[0;34m=\u001b[0m \u001b[0;34m'assembly'\u001b[0m\u001b[0;34m)\u001b[0m\u001b[0;34m\u001b[0m\u001b[0;34m\u001b[0m\u001b[0m\n\u001b[0m\u001b[1;32m    100\u001b[0m         \u001b[0;32mif\u001b[0m \u001b[0mwith_anchor\u001b[0m\u001b[0;34m:\u001b[0m\u001b[0;34m\u001b[0m\u001b[0;34m\u001b[0m\u001b[0m\n\u001b[1;32m    101\u001b[0m             \u001b[0maffinity\u001b[0m \u001b[0;34m=\u001b[0m \u001b[0maffinity\u001b[0m\u001b[0;34m\u001b[0m\u001b[0;34m\u001b[0m\u001b[0m\n",
      "\u001b[0;32m<ipython-input-3-198669e0083d>\u001b[0m in \u001b[0;36mprocess_data\u001b[0;34m(selected_data, selected_label, with_anchor, task)\u001b[0m\n\u001b[1;32m     33\u001b[0m \u001b[0;34m\u001b[0m\u001b[0m\n\u001b[1;32m     34\u001b[0m     \u001b[0;31m# Object coordinates information\u001b[0m\u001b[0;34m\u001b[0m\u001b[0;34m\u001b[0m\u001b[0;34m\u001b[0m\u001b[0m\n\u001b[0;32m---> 35\u001b[0;31m     \u001b[0mcoord\u001b[0m \u001b[0;34m=\u001b[0m \u001b[0mselected_data_balanced\u001b[0m\u001b[0;34m[\u001b[0m\u001b[0;34m:\u001b[0m\u001b[0;34m,\u001b[0m\u001b[0;36m0\u001b[0m\u001b[0;34m:\u001b[0m\u001b[0;36m3\u001b[0m\u001b[0;34m]\u001b[0m\u001b[0;34m\u001b[0m\u001b[0;34m\u001b[0m\u001b[0m\n\u001b[0m\u001b[1;32m     36\u001b[0m     \u001b[0mobj_kind\u001b[0m \u001b[0;34m=\u001b[0m \u001b[0mselected_data_balanced\u001b[0m\u001b[0;34m[\u001b[0m\u001b[0;34m:\u001b[0m\u001b[0;34m,\u001b[0m \u001b[0;36m3\u001b[0m\u001b[0;34m]\u001b[0m\u001b[0;34m\u001b[0m\u001b[0;34m\u001b[0m\u001b[0m\n\u001b[1;32m     37\u001b[0m     \u001b[0mnoise\u001b[0m \u001b[0;34m=\u001b[0m \u001b[0mnp\u001b[0m\u001b[0;34m.\u001b[0m\u001b[0mrandom\u001b[0m\u001b[0;34m.\u001b[0m\u001b[0mnormal\u001b[0m\u001b[0;34m(\u001b[0m\u001b[0mu_coord\u001b[0m\u001b[0;34m,\u001b[0m \u001b[0msigma_coord\u001b[0m\u001b[0;34m,\u001b[0m \u001b[0mcoord\u001b[0m\u001b[0;34m.\u001b[0m\u001b[0mshape\u001b[0m\u001b[0;34m)\u001b[0m\u001b[0;34m\u001b[0m\u001b[0;34m\u001b[0m\u001b[0m\n",
      "\u001b[0;31mIndexError\u001b[0m: too many indices for array"
     ]
    }
   ],
   "source": [
    "test_3d('bin_picking', 'gaussian', False, 'euclidean')"
   ]
  },
  {
   "cell_type": "code",
   "execution_count": 18,
   "metadata": {},
   "outputs": [
    {
     "name": "stdout",
     "output_type": "stream",
     "text": [
      "4 [1 0 1 0] [1 1 0 1 0 0] 4 528\n",
      "8 [0 0 0 1 0 0 0 1] [2 2 2 1 0 2 2 1 0 0 0 0 1 1 1] 8 368\n",
      "8 [0 0 0 0 0 1 1 0] [1 1 1 1 1 0 0 1 0 0 0 0] 8 391\n",
      "4 [0 1 0 1] [1 1 1 0 0 0] 4 167\n",
      "4 [1 0] [1 0] 4 336\n",
      "8 [0 0 0 0 1 0 0 0] [1 1 1 1 0 1 1 1 0 0 0 0 0 0] 8 424\n",
      "4 [1 0 1 0] [1 1 0 1 0 0] 4 152\n",
      "8 [1 1 0 0 1 1 0 0] [1 1 1 1 1 1 0 1 0 0 0 0 0 0] 8 412\n",
      "4 [0 1] [0 0] 4 288\n",
      "4 [0 1] [0 0] 4 302\n",
      "8 [1 1 1 1 0 1 1 1] [1 1 1 1 0 1 0 1 0 0 0 0] 8 499\n",
      "8 [0 0 1 1 0 0 1 1] [1 1 1 1 0 1 1 1 0 0 0 0 0 0] 8 206\n",
      "6 [1 1 1 1 0 1] [1 1 1 1 0 1 0 0 0 0] 6 217\n",
      "4 [0 0 1 0] [1 1 0 1 0 0] 4 148\n",
      "4 [1 0 1 0] [1 1 1 0 0 0] 4 7\n",
      "8 [0 0 1 1 0 0 1 1] [1 1 1 1 1 0 0 1 0 0 0 0] 8 86\n",
      "4 [1 0] [0 0] 4 300\n",
      "6 [1 1 0 1 0 0] [1 1 0 1 0 0] 6 422\n",
      "4 [1 0] [0 0] 4 316\n",
      "4 [0 1 0 1] [1 1 1 0 0 0] 4 21\n",
      "4 [0 0 0 1] [1 1 1 0 0 0] 4 46\n",
      "4 [1 1 1 0] [1 1 1 0 0 0] 4 162\n",
      "8 [1 1 0 0 1 1 0 0] [1 1 1 1 0 1 1 1 0 0 0 0 0 0] 8 393\n",
      "8 [0 0 0 0 1 0 0 0] [1 1 1 1 0 1 1 1 0 0 0 0 0 0] 8 397\n",
      "4 [0 1] [1 0] 4 426\n",
      "4 [0 1 0 1] [1 1 1 0 0 0] 4 192\n",
      "12 [1 1 1 0 0 0 1 1 1 0 0 0] [1 1 1 1 1 1 0 1 1 1 1 1 0 0 0 0 0 0 0 0 0 0] 12 242\n",
      "4 [0 0 1 0] [1 1 0 1 0 0] 4 171\n",
      "4 [0 1 0 1] [1 1 0 1 0 0] 4 8\n",
      "4 [1 0 1 0] [1 1 1 0 0 0] 4 169\n",
      "8 [1 1 1 1 1 1 0 1] [1 1 1 1 1 1 0 1 0 0 0 0 0 0] 8 112\n",
      "4 [0 0 1 0] [1 1 0 1 0 0] 4 179\n",
      "6 [0 0 0 1 0 0] [1 1 1 0 1 1 0 0 0 0] 6 496\n",
      "4 [0 1] [0 0] 4 314\n",
      "4 [0 0 0 1] [1 1 1 0 0 0] 4 146\n",
      "8 [0 1 1 1 0 1 1 1] [2 2 2 1 0 2 2 1 0 0 0 0 1 1 1] 8 254\n",
      "8 [1 1 1 1 1 1 0 1] [1 1 1 1 1 1 0 1 0 0 0 0 0 0] 8 113\n",
      "6 [0 0 1 0 1 1] [1 1 0 1 0 0] 6 231\n",
      "4 [1 1 1 0] [1 1 1 0 0 0] 4 28\n",
      "4 [1 0 1 0] [1 1 0 1 0 0] 4 149\n",
      "8 [1 1 0 0 1 1 0 0] [1 1 1 1 1 1 0 1 0 0 0 0 0 0] 8 512\n",
      "4 [1 0 1 0] [2 1 0 1 0 2] 4 547\n",
      "12 [1 1 1 0 1 0 1 1 1 0 1 0] [1 1 1 1 1 1 1 1 1 0 1 1 0 0 0 0 0 0 0 0 0 0] 12 462\n",
      "8 [0 0 1 1 0 0 1 1] [1 1 1 1 0 1 1 1 0 0 0 0 0 0] 8 405\n",
      "4 [1 0 1 0] [1 1 0 1 0 0] 4 8\n",
      "6 [0 0 0 0 1 0] [1 1 1 1 0 1 0 0 0 0] 6 90\n",
      "4 [1 1 1 0] [1 1 1 0 0 0] 4 28\n",
      "12 [0 0 0 1 1 1 0 0 0 1 1 1] [1 1 1 1 1 1 1 1 1 0 1 1 0 0 0 0 0 0 0 0 0 0] 12 236\n",
      "12 [1 1 1 0 0 0 1 1 1 0 0 0] [1 1 1 1 1 1 1 1 1 0 1 1 0 0 0 0 0 0 0 0 0 0] 12 474\n",
      "4 [0 1 0 1] [1 1 0 1 0 0] 4 138\n",
      "8 [0 0 0 0 0 0 1 0] [1 1 1 1 1 1 0 1 0 0 0 0 0 0] 8 539\n",
      "8 [1 1 0 1 1 1 0 0] [1 1 1 1 1 1 0 1 0 0 0 0 0 0] 8 413\n",
      "4 [0 1] [0 0] 4 300\n",
      "4 [0 0 0 1] [1 1 1 0 0 0] 4 169\n",
      "6 [0 1 1 0 1 1] [1 1 1 1 0 1 0 0 0 0] 6 419\n",
      "8 [0 0 0 0 0 0 1 0] [1 1 1 1 1 1 0 1 0 0 0 0 0 0] 8 114\n",
      "4 [0 1 0 1] [1 1 0 0] 4 518\n",
      "4 [1 0 1 0] [1 1 1 0 0 0] 4 175\n",
      "6 [1 1 1 0 1 1] [1 1 1 0 1 1 0 0 0 0] 6 494\n",
      "4 [0 0 0 1] [1 1 1 0 0 0] 4 147\n",
      "4 [1 0] [0 0] 4 296\n",
      "8 [0 0 1 1 0 0 1 1] [1 1 1 1 1 1 0 1 0 0 0 0 0 0] 8 412\n",
      "4 [0 1] [1 0] 4 299\n",
      "4 [1 0 1 0] [1 1 1 0 0 0] 4 9\n",
      "6 [1 1 0 1 1 0] [1 1 1 1 1 0 0 0 0 0] 6 411\n",
      "6 [0 0 0 1 0 0] [1 1 1 0 1 1 0 0 0 0] 6 494\n",
      "4 [0 1 0 1] [1 1 1 0 0 0] 4 156\n",
      "8 [0 0 0 1 0 0 0 1] [2 2 2 1 2 2 2 0 0 0 0 0 0 1 1 1 1 1] 8 270\n",
      "8 [0 0 1 1 0 0 1 1] [1 1 1 1 0 1 1 1 0 0 0 0 0 0] 8 80\n",
      "6 [1 1 0 1 1 0] [2 2 1 0 2 1 0 0 1] 6 350\n",
      "4 [0 1 0 1] [1 1 0 1 0 0] 4 159\n",
      "8 [0 0 0 0 0 0 1 0] [1 1 1 1 1 1 0 1 0 0 0 0 0 0] 8 108\n",
      "8 [1 1 1 1 0 1 1 1] [1 1 1 1 0 1 0 1 0 0 0 0] 8 399\n",
      "6 [1 1 0 1 0 0] [1 1 0 1 0 0] 6 226\n",
      "6 [1 0 0 1 0 0] [1 1 1 0 1 1 0 0 0 0] 6 221\n",
      "4 [0 0 1 0] [1 1 0 1 0 0] 4 520\n",
      "10 [0 0 0 0 0 1 0 0 0 0] [1 1 1 1 1 0 1 1 1 1 0 0 0 0 0 0 0 0] 10 472\n",
      "4 [1 1 0 1] [1 1 0 1 0 0] 4 170\n",
      "8 [1 1 0 0 1 1 0 0] [1 1 1 1 1 1 0 1 0 0 0 0 0 0] 8 487\n",
      "4 [0 0 0 1] [1 1 1 0 0 0] 4 167\n",
      "8 [1 1 1 0 1 1 1 0] [1 1 1 0 1 1 1 0 0 0 0 0] 8 354\n",
      "4 [1 0 1 0] [1 1 0 1 0 0] 4 161\n",
      "4 [0 0 0 1] [1 1 1 0 0 0] 4 185\n",
      "4 [1 0] [0 0] 4 321\n",
      "10 [1 1 1 0 0 1 1 1 0 0] [2 2 2 1 2 0 2 2 1 2 0 0 0 0 0 0 1 1 1 1 1] 10 268\n",
      "8 [0 0 0 1 0 0 0 1] [1 1 1 0 1 1 1 0 0 0 0 0] 8 266\n",
      "4 [0 0 0 1] [1 1 1 0 0 0] 4 50\n",
      "8 [0 0 0 0 0 1 1 0] [1 1 1 1 1 0 0 1 0 0 0 0] 8 444\n",
      "8 [0 0 0 0 0 0 1 0] [1 1 1 1 1 1 0 1 0 0 0 0 0 0] 8 538\n",
      "4 [1 0 1 0] [1 1 0 1 0 0] 4 154\n",
      "8 [1 1 1 1 1 1 0 1] [1 1 1 1 1 1 0 1 0 0 0 0 0 0] 8 385\n",
      "6 [0 0 1 0 1 1] [1 1 0 1 0 0] 6 220\n",
      "4 [1 0 1 0] [1 1 1 0 0 0] 4 13\n",
      "8 [0 0 0 0 0 0 1 0] [1 1 1 1 1 1 0 1 0 0 0 0 0 0] 8 114\n",
      "4 [0 1 0 1] [1 1 0 1 0 0] 4 525\n",
      "6 [0 1 0 1 0 0] [2 1 0 1 0 2] 6 374\n",
      "12 [1 1 1 1 1 1 0 1 1 1 1 1] [1 1 1 1 1 1 0 1 1 1 1 1 0 0 0 0 0 0 0 0 0 0] 12 249\n",
      "6 [0 0 1 0 0 1] [2 2 1 0 2 1 0 0 1] 6 449\n",
      "8 [0 1 1 1 0 0 1 1] [1 1 1 1 0 1 1 1 0 0 0 0 0 0] 8 460\n",
      "6 [0 0 0 0 1 0] [1 1 1 1 0 1 0 0 0 0] 6 228\n",
      "Algorithm is gaussian, Affinity is euclidean, With anchor is True. \n",
      "         The average rand score is 0.4935939000549965.\n",
      "         The success rate is 44.0% \n",
      "        The number of test is 100\n"
     ]
    }
   ],
   "source": [
    "task = 'bin_picking'\n",
    "algorithm = 'gaussian'\n",
    "affinity = 'euclidean'\n",
    "with_anchor = True\n",
    "\n",
    "if task == 'assembly':\n",
    "    n_states = 4\n",
    "    n_clusters = 5\n",
    "    target_dir = '../../roboSim/data/assembly/*/*.pickle'\n",
    "elif task == 'bin_picking':\n",
    "    n_states = 2\n",
    "    n_clusters = 2\n",
    "    target_dir = '../../roboSim/data/bin_picking/*/*.pickle'\n",
    "logfile_path = glob.glob(target_dir)\n",
    "#coordinates and object kind for nut and bolt\n",
    "data, label = fetch_data_with_label_per_step(logfile_path, n_states)\n",
    "\n",
    "n_test = 100\n",
    "result = []\n",
    "rand_score = 0\n",
    "n_success = 0\n",
    "n_skip = 0\n",
    "for i in range(n_test):\n",
    "    ind = np.random.choice(len(data))\n",
    "    selected_data = np.array(list(itertools.chain.from_iterable(data[ind])))\n",
    "    selected_label = np.array(list(itertools.chain.from_iterable(label[ind])))\n",
    "    if selected_data.shape[0] < 2:\n",
    "        # Skip cases when there is only one datapoint\n",
    "        n_skip += 1\n",
    "        continue\n",
    "    data_concat, selected_label_int = process_data(selected_data, selected_label, with_anchor, task = 'assembly')\n",
    "    if with_anchor:\n",
    "        affinity = affinity\n",
    "    else:\n",
    "        affinity = affinity[:2]\n",
    "    C = Clustering(data_concat, algorithm, affinity, n_clusters, thres = None, p = -2)\n",
    "    estimated_label = C.predict()\n",
    "    n_original = selected_data.shape[0]\n",
    "    print(n_original, estimated_label[:n_original], selected_label_int, len(selected_label), ind)\n",
    "    temp = adjusted_rand_score(estimated_label[:n_original], selected_label_int[:n_original])\n",
    "    rand_score += temp\n",
    "    if temp == 1:\n",
    "        n_success +=1\n",
    "    average_rand = rand_score / n_test\n",
    "    success_rate = n_success / n_test * 100\n",
    "print(f'Algorithm is {algorithm}, Affinity is {affinity}, With anchor is {with_anchor}. \\n \\\n",
    "        The average rand score is {average_rand}.\\n \\\n",
    "        The success rate is {success_rate}% \\n\\\n",
    "        The number of test is {n_test - n_skip}')\n",
    "\n",
    "\n",
    "    \n"
   ]
  },
  {
   "cell_type": "code",
   "execution_count": 11,
   "metadata": {},
   "outputs": [
    {
     "name": "stdout",
     "output_type": "stream",
     "text": [
      "226\n"
     ]
    }
   ],
   "source": [
    "print(ind)"
   ]
  },
  {
   "cell_type": "code",
   "execution_count": 13,
   "metadata": {},
   "outputs": [
    {
     "ename": "AttributeError",
     "evalue": "'list' object has no attribute 'shape'",
     "output_type": "error",
     "traceback": [
      "\u001b[0;31m---------------------------------------------------------------------------\u001b[0m",
      "\u001b[0;31mAttributeError\u001b[0m                            Traceback (most recent call last)",
      "\u001b[0;32m<ipython-input-13-047ed65ff157>\u001b[0m in \u001b[0;36m<module>\u001b[0;34m()\u001b[0m\n\u001b[0;32m----> 1\u001b[0;31m \u001b[0mdata\u001b[0m\u001b[0;34m.\u001b[0m\u001b[0mshape\u001b[0m\u001b[0;34m\u001b[0m\u001b[0;34m\u001b[0m\u001b[0m\n\u001b[0m",
      "\u001b[0;31mAttributeError\u001b[0m: 'list' object has no attribute 'shape'"
     ]
    }
   ],
   "source": [
    "data.shape"
   ]
  },
  {
   "cell_type": "code",
   "execution_count": 15,
   "metadata": {},
   "outputs": [
    {
     "data": {
      "text/plain": [
       "array([[ 0.40663362,  0.05692914, -0.16544304,  1.        ],\n",
       "       [ 0.40147898,  0.05462287, -0.07742524,  1.        ]])"
      ]
     },
     "execution_count": 15,
     "metadata": {},
     "output_type": "execute_result"
    }
   ],
   "source": [
    "selected_data"
   ]
  },
  {
   "cell_type": "code",
   "execution_count": 17,
   "metadata": {},
   "outputs": [
    {
     "data": {
      "text/plain": [
       "array(['Object in origin bin', 'Object in origin bin',\n",
       "       'Object in target bin', 'Object in origin bin'], dtype='<U20')"
      ]
     },
     "execution_count": 17,
     "metadata": {},
     "output_type": "execute_result"
    }
   ],
   "source": [
    "selected_label"
   ]
  },
  {
   "cell_type": "code",
   "execution_count": 10,
   "metadata": {},
   "outputs": [
    {
     "data": {
      "text/plain": [
       "array(['Object in origin bin', 'Object in origin bin',\n",
       "       'Object in target bin', 'Object in origin bin'], dtype='<U20')"
      ]
     },
     "execution_count": 10,
     "metadata": {},
     "output_type": "execute_result"
    }
   ],
   "source": [
    "selected_label"
   ]
  },
  {
   "cell_type": "code",
   "execution_count": 34,
   "metadata": {},
   "outputs": [
    {
     "data": {
      "text/plain": [
       "1"
      ]
     },
     "execution_count": 34,
     "metadata": {},
     "output_type": "execute_result"
    }
   ],
   "source": [
    "selected_data.shape[0]"
   ]
  },
  {
   "cell_type": "code",
   "execution_count": 19,
   "metadata": {},
   "outputs": [
    {
     "data": {
      "text/plain": [
       "1"
      ]
     },
     "execution_count": 19,
     "metadata": {},
     "output_type": "execute_result"
    }
   ],
   "source": [
    "len(selected_label)"
   ]
  },
  {
   "cell_type": "code",
   "execution_count": 12,
   "metadata": {},
   "outputs": [
    {
     "data": {
      "text/plain": [
       "array([[ 0.43498053,  0.03105522, -0.13032542,  0.        ],\n",
       "       [ 1.28317173,  0.02727028, -0.2515229 ,  1.        ],\n",
       "       [-0.50452024,  0.03427605, -0.47142175,  0.        ],\n",
       "       [ 1.28314302,  0.02715544, -0.25391189,  1.        ]])"
      ]
     },
     "execution_count": 12,
     "metadata": {},
     "output_type": "execute_result"
    }
   ],
   "source": [
    "selected_data"
   ]
  },
  {
   "cell_type": "code",
   "execution_count": 13,
   "metadata": {},
   "outputs": [
    {
     "data": {
      "text/plain": [
       "array(['Object in origin bin', 'Noise data', 'Object in target bin',\n",
       "       'Noise data'], dtype='<U20')"
      ]
     },
     "execution_count": 13,
     "metadata": {},
     "output_type": "execute_result"
    }
   ],
   "source": [
    "selected_label"
   ]
  },
  {
   "cell_type": "code",
   "execution_count": 5,
   "metadata": {},
   "outputs": [],
   "source": [
    "a = [0,1,2,3]"
   ]
  },
  {
   "cell_type": "code",
   "execution_count": 6,
   "metadata": {},
   "outputs": [
    {
     "ename": "TypeError",
     "evalue": "'list' object cannot be interpreted as an integer",
     "output_type": "error",
     "traceback": [
      "\u001b[0;31m---------------------------------------------------------------------------\u001b[0m",
      "\u001b[0;31mTypeError\u001b[0m                                 Traceback (most recent call last)",
      "\u001b[0;32m<ipython-input-6-9c237d5b282c>\u001b[0m in \u001b[0;36m<module>\u001b[0;34m()\u001b[0m\n\u001b[0;32m----> 1\u001b[0;31m \u001b[0ma\u001b[0m\u001b[0;34m.\u001b[0m\u001b[0mpop\u001b[0m\u001b[0;34m(\u001b[0m\u001b[0;34m[\u001b[0m\u001b[0;36m0\u001b[0m\u001b[0;34m,\u001b[0m\u001b[0;36m1\u001b[0m\u001b[0;34m]\u001b[0m\u001b[0;34m)\u001b[0m\u001b[0;34m\u001b[0m\u001b[0;34m\u001b[0m\u001b[0m\n\u001b[0m",
      "\u001b[0;31mTypeError\u001b[0m: 'list' object cannot be interpreted as an integer"
     ]
    }
   ],
   "source": [
    "a.pop([0,1])"
   ]
  },
  {
   "cell_type": "code",
   "execution_count": null,
   "metadata": {},
   "outputs": [],
   "source": []
  }
 ],
 "metadata": {
  "kernelspec": {
   "display_name": "Python 3",
   "language": "python",
   "name": "python3"
  },
  "language_info": {
   "codemirror_mode": {
    "name": "ipython",
    "version": 3
   },
   "file_extension": ".py",
   "mimetype": "text/x-python",
   "name": "python",
   "nbconvert_exporter": "python",
   "pygments_lexer": "ipython3",
   "version": "3.7.3"
  }
 },
 "nbformat": 4,
 "nbformat_minor": 2
}
